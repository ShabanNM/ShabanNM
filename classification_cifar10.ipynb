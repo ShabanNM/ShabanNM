{
  "nbformat": 4,
  "nbformat_minor": 0,
  "metadata": {
    "colab": {
      "name": "FinalAssignment.ipynb",
      "provenance": [],
      "collapsed_sections": [],
      "authorship_tag": "ABX9TyMVdzm5hQMmZos0c+75rt/r",
      "include_colab_link": true
    },
    "kernelspec": {
      "name": "python3",
      "display_name": "Python 3"
    },
    "language_info": {
      "name": "python"
    },
    "widgets": {
      "application/vnd.jupyter.widget-state+json": {
        "37748206532c4ac6bb1f20801d2be487": {
          "model_module": "@jupyter-widgets/controls",
          "model_name": "HBoxModel",
          "model_module_version": "1.5.0",
          "state": {
            "_dom_classes": [],
            "_model_module": "@jupyter-widgets/controls",
            "_model_module_version": "1.5.0",
            "_model_name": "HBoxModel",
            "_view_count": null,
            "_view_module": "@jupyter-widgets/controls",
            "_view_module_version": "1.5.0",
            "_view_name": "HBoxView",
            "box_style": "",
            "children": [
              "IPY_MODEL_b9e7a014897948eaad11eb1e16bd7cae",
              "IPY_MODEL_ae3be7b2200647629f591f9bf1d7c6b4",
              "IPY_MODEL_5870270d873f487d89ae43fc85052971"
            ],
            "layout": "IPY_MODEL_aa8d32e4a0c64473b88c8146b1644f99"
          }
        },
        "b9e7a014897948eaad11eb1e16bd7cae": {
          "model_module": "@jupyter-widgets/controls",
          "model_name": "HTMLModel",
          "model_module_version": "1.5.0",
          "state": {
            "_dom_classes": [],
            "_model_module": "@jupyter-widgets/controls",
            "_model_module_version": "1.5.0",
            "_model_name": "HTMLModel",
            "_view_count": null,
            "_view_module": "@jupyter-widgets/controls",
            "_view_module_version": "1.5.0",
            "_view_name": "HTMLView",
            "description": "",
            "description_tooltip": null,
            "layout": "IPY_MODEL_fd11a0710e6947719e52e8cad7594ad1",
            "placeholder": "​",
            "style": "IPY_MODEL_7afeeb4e58724c0d837c232005f675ea",
            "value": ""
          }
        },
        "ae3be7b2200647629f591f9bf1d7c6b4": {
          "model_module": "@jupyter-widgets/controls",
          "model_name": "FloatProgressModel",
          "model_module_version": "1.5.0",
          "state": {
            "_dom_classes": [],
            "_model_module": "@jupyter-widgets/controls",
            "_model_module_version": "1.5.0",
            "_model_name": "FloatProgressModel",
            "_view_count": null,
            "_view_module": "@jupyter-widgets/controls",
            "_view_module_version": "1.5.0",
            "_view_name": "ProgressView",
            "bar_style": "success",
            "description": "",
            "description_tooltip": null,
            "layout": "IPY_MODEL_496ff3f1eebd42ce850693aa70a1de43",
            "max": 170498071,
            "min": 0,
            "orientation": "horizontal",
            "style": "IPY_MODEL_755169bd23b048b99757955237fe1d2f",
            "value": 170498071
          }
        },
        "5870270d873f487d89ae43fc85052971": {
          "model_module": "@jupyter-widgets/controls",
          "model_name": "HTMLModel",
          "model_module_version": "1.5.0",
          "state": {
            "_dom_classes": [],
            "_model_module": "@jupyter-widgets/controls",
            "_model_module_version": "1.5.0",
            "_model_name": "HTMLModel",
            "_view_count": null,
            "_view_module": "@jupyter-widgets/controls",
            "_view_module_version": "1.5.0",
            "_view_name": "HTMLView",
            "description": "",
            "description_tooltip": null,
            "layout": "IPY_MODEL_1dd42e70921b4035ad30f8cf183a102b",
            "placeholder": "​",
            "style": "IPY_MODEL_d5388cee07504d2ead11b007091eee2e",
            "value": " 170499072/? [00:04&lt;00:00, 47906054.16it/s]"
          }
        },
        "aa8d32e4a0c64473b88c8146b1644f99": {
          "model_module": "@jupyter-widgets/base",
          "model_name": "LayoutModel",
          "model_module_version": "1.2.0",
          "state": {
            "_model_module": "@jupyter-widgets/base",
            "_model_module_version": "1.2.0",
            "_model_name": "LayoutModel",
            "_view_count": null,
            "_view_module": "@jupyter-widgets/base",
            "_view_module_version": "1.2.0",
            "_view_name": "LayoutView",
            "align_content": null,
            "align_items": null,
            "align_self": null,
            "border": null,
            "bottom": null,
            "display": null,
            "flex": null,
            "flex_flow": null,
            "grid_area": null,
            "grid_auto_columns": null,
            "grid_auto_flow": null,
            "grid_auto_rows": null,
            "grid_column": null,
            "grid_gap": null,
            "grid_row": null,
            "grid_template_areas": null,
            "grid_template_columns": null,
            "grid_template_rows": null,
            "height": null,
            "justify_content": null,
            "justify_items": null,
            "left": null,
            "margin": null,
            "max_height": null,
            "max_width": null,
            "min_height": null,
            "min_width": null,
            "object_fit": null,
            "object_position": null,
            "order": null,
            "overflow": null,
            "overflow_x": null,
            "overflow_y": null,
            "padding": null,
            "right": null,
            "top": null,
            "visibility": null,
            "width": null
          }
        },
        "fd11a0710e6947719e52e8cad7594ad1": {
          "model_module": "@jupyter-widgets/base",
          "model_name": "LayoutModel",
          "model_module_version": "1.2.0",
          "state": {
            "_model_module": "@jupyter-widgets/base",
            "_model_module_version": "1.2.0",
            "_model_name": "LayoutModel",
            "_view_count": null,
            "_view_module": "@jupyter-widgets/base",
            "_view_module_version": "1.2.0",
            "_view_name": "LayoutView",
            "align_content": null,
            "align_items": null,
            "align_self": null,
            "border": null,
            "bottom": null,
            "display": null,
            "flex": null,
            "flex_flow": null,
            "grid_area": null,
            "grid_auto_columns": null,
            "grid_auto_flow": null,
            "grid_auto_rows": null,
            "grid_column": null,
            "grid_gap": null,
            "grid_row": null,
            "grid_template_areas": null,
            "grid_template_columns": null,
            "grid_template_rows": null,
            "height": null,
            "justify_content": null,
            "justify_items": null,
            "left": null,
            "margin": null,
            "max_height": null,
            "max_width": null,
            "min_height": null,
            "min_width": null,
            "object_fit": null,
            "object_position": null,
            "order": null,
            "overflow": null,
            "overflow_x": null,
            "overflow_y": null,
            "padding": null,
            "right": null,
            "top": null,
            "visibility": null,
            "width": null
          }
        },
        "7afeeb4e58724c0d837c232005f675ea": {
          "model_module": "@jupyter-widgets/controls",
          "model_name": "DescriptionStyleModel",
          "model_module_version": "1.5.0",
          "state": {
            "_model_module": "@jupyter-widgets/controls",
            "_model_module_version": "1.5.0",
            "_model_name": "DescriptionStyleModel",
            "_view_count": null,
            "_view_module": "@jupyter-widgets/base",
            "_view_module_version": "1.2.0",
            "_view_name": "StyleView",
            "description_width": ""
          }
        },
        "496ff3f1eebd42ce850693aa70a1de43": {
          "model_module": "@jupyter-widgets/base",
          "model_name": "LayoutModel",
          "model_module_version": "1.2.0",
          "state": {
            "_model_module": "@jupyter-widgets/base",
            "_model_module_version": "1.2.0",
            "_model_name": "LayoutModel",
            "_view_count": null,
            "_view_module": "@jupyter-widgets/base",
            "_view_module_version": "1.2.0",
            "_view_name": "LayoutView",
            "align_content": null,
            "align_items": null,
            "align_self": null,
            "border": null,
            "bottom": null,
            "display": null,
            "flex": null,
            "flex_flow": null,
            "grid_area": null,
            "grid_auto_columns": null,
            "grid_auto_flow": null,
            "grid_auto_rows": null,
            "grid_column": null,
            "grid_gap": null,
            "grid_row": null,
            "grid_template_areas": null,
            "grid_template_columns": null,
            "grid_template_rows": null,
            "height": null,
            "justify_content": null,
            "justify_items": null,
            "left": null,
            "margin": null,
            "max_height": null,
            "max_width": null,
            "min_height": null,
            "min_width": null,
            "object_fit": null,
            "object_position": null,
            "order": null,
            "overflow": null,
            "overflow_x": null,
            "overflow_y": null,
            "padding": null,
            "right": null,
            "top": null,
            "visibility": null,
            "width": null
          }
        },
        "755169bd23b048b99757955237fe1d2f": {
          "model_module": "@jupyter-widgets/controls",
          "model_name": "ProgressStyleModel",
          "model_module_version": "1.5.0",
          "state": {
            "_model_module": "@jupyter-widgets/controls",
            "_model_module_version": "1.5.0",
            "_model_name": "ProgressStyleModel",
            "_view_count": null,
            "_view_module": "@jupyter-widgets/base",
            "_view_module_version": "1.2.0",
            "_view_name": "StyleView",
            "bar_color": null,
            "description_width": ""
          }
        },
        "1dd42e70921b4035ad30f8cf183a102b": {
          "model_module": "@jupyter-widgets/base",
          "model_name": "LayoutModel",
          "model_module_version": "1.2.0",
          "state": {
            "_model_module": "@jupyter-widgets/base",
            "_model_module_version": "1.2.0",
            "_model_name": "LayoutModel",
            "_view_count": null,
            "_view_module": "@jupyter-widgets/base",
            "_view_module_version": "1.2.0",
            "_view_name": "LayoutView",
            "align_content": null,
            "align_items": null,
            "align_self": null,
            "border": null,
            "bottom": null,
            "display": null,
            "flex": null,
            "flex_flow": null,
            "grid_area": null,
            "grid_auto_columns": null,
            "grid_auto_flow": null,
            "grid_auto_rows": null,
            "grid_column": null,
            "grid_gap": null,
            "grid_row": null,
            "grid_template_areas": null,
            "grid_template_columns": null,
            "grid_template_rows": null,
            "height": null,
            "justify_content": null,
            "justify_items": null,
            "left": null,
            "margin": null,
            "max_height": null,
            "max_width": null,
            "min_height": null,
            "min_width": null,
            "object_fit": null,
            "object_position": null,
            "order": null,
            "overflow": null,
            "overflow_x": null,
            "overflow_y": null,
            "padding": null,
            "right": null,
            "top": null,
            "visibility": null,
            "width": null
          }
        },
        "d5388cee07504d2ead11b007091eee2e": {
          "model_module": "@jupyter-widgets/controls",
          "model_name": "DescriptionStyleModel",
          "model_module_version": "1.5.0",
          "state": {
            "_model_module": "@jupyter-widgets/controls",
            "_model_module_version": "1.5.0",
            "_model_name": "DescriptionStyleModel",
            "_view_count": null,
            "_view_module": "@jupyter-widgets/base",
            "_view_module_version": "1.2.0",
            "_view_name": "StyleView",
            "description_width": ""
          }
        }
      }
    }
  },
  "cells": [
    {
      "cell_type": "markdown",
      "metadata": {
        "id": "view-in-github",
        "colab_type": "text"
      },
      "source": [
        "<a href=\"https://colab.research.google.com/github/ShabanNM/ShabanNM/blob/main/classification_cifar10.ipynb\" target=\"_parent\"><img src=\"https://colab.research.google.com/assets/colab-badge.svg\" alt=\"Open In Colab\"/></a>"
      ]
    },
    {
      "cell_type": "markdown",
      "source": [
        "**Name**: ***Shaban Mohamed Namatsi***\n",
        "<br><br>\n",
        "\n",
        "ID: USER1296211/ R2105D12296211\n"
      ],
      "metadata": {
        "id": "YLs3LamTFN40"
      }
    },
    {
      "cell_type": "code",
      "execution_count": 1,
      "metadata": {
        "id": "AnRHAVVLFMSh"
      },
      "outputs": [],
      "source": [
        "import numpy as np\n",
        "import matplotlib.pyplot as plt\n",
        "# Import PyTorch Library, nn Neural netwroks and transform for transforming data\n",
        "import torch\n",
        "import torch.nn as nn\n",
        "import torchvision\n",
        "import torchvision.transforms as transforms\n",
        "# deep learning libraries\n",
        "import keras\n",
        "from keras.datasets import cifar10 as dsets\n",
        "from tensorflow.keras.utils import to_categorical\n",
        "from keras.models import Sequential, load_model, model_from_json\n",
        "\n",
        "%matplotlib inline"
      ]
    },
    {
      "cell_type": "markdown",
      "source": [
        "Get CIFAR-10 Data trainset of 50,000 images train data and 10,000 images as test data.\n",
        "\n",
        "\n"
      ],
      "metadata": {
        "id": "pMC51MvohQ8w"
      }
    },
    {
      "cell_type": "code",
      "source": [
        "batch_size = 6\n",
        "# First the image is resized then converted to a tensor\n",
        "composed = transforms.Compose([transforms.ToTensor(),transforms.Normalize((0.5, 0.5, 0.5), (0.5, 0.5, 0.5))])\n",
        "trainset = torchvision.datasets.CIFAR10(root='./data', train=True,download=True, transform=composed)\n",
        "trainloader = torch.utils.data.DataLoader(trainset, batch_size=batch_size,shuffle=True, num_workers=2)\n",
        "\n",
        "testset = torchvision.datasets.CIFAR10(root='./data', train=False,download=True, transform=composed)\n",
        "testloader = torch.utils.data.DataLoader(testset, batch_size=batch_size,shuffle=False, num_workers=2)\n",
        "\n",
        "classes = ('plane', 'car', 'bird', 'cat','deer', 'dog', 'frog', 'horse', 'ship', 'truck')\n",
        "len(trainset), len(testset)"
      ],
      "metadata": {
        "colab": {
          "base_uri": "https://localhost:8080/",
          "height": 118,
          "referenced_widgets": [
            "37748206532c4ac6bb1f20801d2be487",
            "b9e7a014897948eaad11eb1e16bd7cae",
            "ae3be7b2200647629f591f9bf1d7c6b4",
            "5870270d873f487d89ae43fc85052971",
            "aa8d32e4a0c64473b88c8146b1644f99",
            "fd11a0710e6947719e52e8cad7594ad1",
            "7afeeb4e58724c0d837c232005f675ea",
            "496ff3f1eebd42ce850693aa70a1de43",
            "755169bd23b048b99757955237fe1d2f",
            "1dd42e70921b4035ad30f8cf183a102b",
            "d5388cee07504d2ead11b007091eee2e"
          ]
        },
        "id": "1-opWSo_hVMA",
        "outputId": "e1cb9278-9564-4642-9d05-53fb71959914"
      },
      "execution_count": 2,
      "outputs": [
        {
          "output_type": "stream",
          "name": "stdout",
          "text": [
            "Downloading https://www.cs.toronto.edu/~kriz/cifar-10-python.tar.gz to ./data/cifar-10-python.tar.gz\n"
          ]
        },
        {
          "output_type": "display_data",
          "data": {
            "text/plain": [
              "  0%|          | 0/170498071 [00:00<?, ?it/s]"
            ],
            "application/vnd.jupyter.widget-view+json": {
              "version_major": 2,
              "version_minor": 0,
              "model_id": "37748206532c4ac6bb1f20801d2be487"
            }
          },
          "metadata": {}
        },
        {
          "output_type": "stream",
          "name": "stdout",
          "text": [
            "Extracting ./data/cifar-10-python.tar.gz to ./data\n",
            "Files already downloaded and verified\n"
          ]
        },
        {
          "output_type": "execute_result",
          "data": {
            "text/plain": [
              "(50000, 10000)"
            ]
          },
          "metadata": {},
          "execution_count": 2
        }
      ]
    },
    {
      "cell_type": "markdown",
      "source": [
        "To view sample of CIFAR images for instance 50 and 30 Train and test dataset execute "
      ],
      "metadata": {
        "id": "SWp69IoVil5B"
      }
    },
    {
      "cell_type": "code",
      "source": [
        "def imshow(img):\n",
        "    img = img / 2 + 0.5     # unnormalize\n",
        "    npimg = img.numpy()\n",
        "    plt.imshow(np.transpose(npimg, (1, 2, 0)))\n",
        "    plt.show()\n",
        "\n",
        "# get some random training images\n",
        "dataiter = iter(trainloader)\n",
        "images, labels = dataiter.next()\n",
        "\n",
        "# show images\n",
        "imshow(torchvision.utils.make_grid(images))\n",
        "# print labels\n",
        "print(' '.join(f'{classes[labels[j]]:5s}' for j in range(batch_size)))"
      ],
      "metadata": {
        "colab": {
          "base_uri": "https://localhost:8080/",
          "height": 127
        },
        "id": "0tKmJCRri12p",
        "outputId": "19caed5a-9c34-4d74-9042-33d9f2d6b1e8"
      },
      "execution_count": 3,
      "outputs": [
        {
          "output_type": "display_data",
          "data": {
            "text/plain": [
              "<Figure size 432x288 with 1 Axes>"
            ],
            "image/png": "[encoded data removed]"
          },
          "metadata": {
            "needs_background": "light"
          }
        },
        {
          "output_type": "stream",
          "name": "stdout",
          "text": [
            "car   ship  ship  frog  dog   dog  \n"
          ]
        }
      ]
    },
    {
      "cell_type": "markdown",
      "source": [
        "Creating a CNN class. The class for our logistic regression model inherits from the nn.Module class from PyTorch library and has a construcotr to initialize itself.<br>\n",
        "Additionally, the CNN class has **forward** function  that takes an image as an input and makes a prediction on which label it thinks is the right one. After image input through all the convolutional, max pool layers (**nn.Conv2d() and nn.MaxPool2d()**) and  using the relu activation functionto convert the image input from the 3-D input it received into a 1-D vector which the linear layers can work with. Lastly, the last layer uses softmax function that has Cross entropy loss to get a probability distribution for the predictions which image it is.<br>\n",
        "After declaration, Instantiate the CNN class as **net**."
      ],
      "metadata": {
        "id": "frwy6mgUjszQ"
      }
    },
    {
      "cell_type": "code",
      "source": [
        "import torch.nn.functional as F\n",
        "class CNN(nn.Module):\n",
        "    # Contructor\n",
        "    def __init__(self):\n",
        "        super().__init__()\n",
        "        self.conv1 = nn.Conv2d(3, 6, 5)\n",
        "        self.pool = nn.MaxPool2d(2, 2)\n",
        "        self.conv2 = nn.Conv2d(6, 16, 5)\n",
        "        self.fc1 = nn.Linear(16 * 5 * 5, 120)\n",
        "        self.fc2 = nn.Linear(120, 84)\n",
        "        self.fc3 = nn.Linear(84, 10)\n",
        "\n",
        "    def forward(self, x):\n",
        "        x = self.pool(F.relu(self.conv1(x)))\n",
        "        x = self.pool(F.relu(self.conv2(x)))\n",
        "        x = torch.flatten(x, 1) # flatten all dimensions except batch\n",
        "        x = F.relu(self.fc1(x))\n",
        "        x = F.relu(self.fc2(x))\n",
        "        x = self.fc3(x)\n",
        "        return x\n",
        "\n",
        "net=CNN()"
      ],
      "metadata": {
        "id": "woF5ob6ijxn7"
      },
      "execution_count": 4,
      "outputs": []
    },
    {
      "cell_type": "markdown",
      "source": [
        "**Define a loss function and optimizer:** This is done using a classification Cross-Entropy loss and Stochastic Gradient Descent(SGD) with momentum.\n",
        "<br>\n",
        "\n",
        "**Training** of the model using learning rate of 0.001 and momentum of 0.9 and number of epochs is 3"
      ],
      "metadata": {
        "id": "o5L_Yli0kBDZ"
      }
    },
    {
      "cell_type": "code",
      "source": [
        "import torch.optim as optim\n",
        "n_epochs=3\n",
        "lr=0.001\n",
        "momentum=0.9\n",
        "epoch_list=[]\n",
        "cost_list=[]\n",
        "criterion = nn.CrossEntropyLoss()\n",
        "optimizer = optim.SGD(net.parameters(), lr=lr, momentum=momentum)\n",
        "def train_model(n_epochs):\n",
        "  for epoch in range(n_epochs):  # loop over the dataset three times\n",
        "      running_loss = 0.0\n",
        "      for i, data in enumerate(trainloader, 0):\n",
        "          # get the inputs; data is a list of [inputs, labels]\n",
        "          inputs, labels = data\n",
        "\n",
        "          # zero the parameter gradients\n",
        "          optimizer.zero_grad()\n",
        "\n",
        "          # forward + backward + optimize\n",
        "          outputs = net(inputs)\n",
        "          loss = criterion(outputs, labels)\n",
        "          loss.backward()\n",
        "          optimizer.step()\n",
        "        \n",
        "          # print statistics\n",
        "          running_loss += loss.item()\n",
        "          if i % 2000 == 1999:    # print every 2000 mini-batches\n",
        "              cost_list.append(running_loss / 2000)\n",
        "              epoch_list.append([{epoch + 1}, {i + 1}])\n",
        "\n",
        "train_model(n_epochs)"
      ],
      "metadata": {
        "id": "O1X-9-ahkGkM"
      },
      "execution_count": 5,
      "outputs": []
    },
    {
      "cell_type": "markdown",
      "source": [
        "Save trained model for future use in predictions and display the loss in each running through a batch 2000 training images for the three epoch sessions."
      ],
      "metadata": {
        "id": "dOD6yz8Qkag4"
      }
    },
    {
      "cell_type": "code",
      "source": [
        "PATH = './dl_cifar_cnn.pth'\n",
        "torch.save(net.state_dict(), PATH)"
      ],
      "metadata": {
        "id": "o3yTvoLXklqn"
      },
      "execution_count": 6,
      "outputs": []
    },
    {
      "cell_type": "code",
      "source": [
        "print(\"{}\".format(\"EPOCH LIST\",25),\"\\t\\t{}\".format(\"LOSS\"))\n",
        "for i in range(len(cost_list)):\n",
        "  print (\"{}\".format(epoch_list[i],15),\"\\t\\t{}\".format(cost_list[i],.2))"
      ],
      "metadata": {
        "colab": {
          "base_uri": "https://localhost:8080/"
        },
        "id": "Kcz0DZYHMWwl",
        "outputId": "2e7b465f-891d-4c41-c173-32a0630fb6d1"
      },
      "execution_count": 7,
      "outputs": [
        {
          "output_type": "stream",
          "name": "stdout",
          "text": [
            "EPOCH LIST \t\tLOSS\n",
            "[{1}, {2000}] \t\t2.2197788928747175\n",
            "[{1}, {4000}] \t\t4.024310373455286\n",
            "[{1}, {6000}] \t\t5.641169177979231\n",
            "[{1}, {8000}] \t\t7.175450021073222\n",
            "[{2}, {2000}] \t\t1.4562803448289632\n",
            "[{2}, {4000}] \t\t2.868052859932184\n",
            "[{2}, {6000}] \t\t4.233314450643957\n",
            "[{2}, {8000}] \t\t5.578813582204282\n",
            "[{3}, {2000}] \t\t1.2654489383548497\n",
            "[{3}, {4000}] \t\t2.5208639689981935\n",
            "[{3}, {6000}] \t\t3.7721096162945034\n",
            "[{3}, {8000}] \t\t4.995741076849401\n"
          ]
        }
      ]
    },
    {
      "cell_type": "markdown",
      "source": [
        "Carry out prediction on six randomly selected images fro test data set and display both the image and predicted class.\n"
      ],
      "metadata": {
        "id": "j8lddsFXmJ-F"
      }
    },
    {
      "cell_type": "code",
      "source": [
        "dataiter = iter(testloader)\n",
        "images, labels = dataiter.next()\n",
        "\n",
        "# print images\n",
        "imshow(torchvision.utils.make_grid(images))\n",
        "print('GroundTruth: ', ' '.join(f'{classes[labels[j]]:5s}' for j in range(6)))"
      ],
      "metadata": {
        "colab": {
          "base_uri": "https://localhost:8080/",
          "height": 127
        },
        "id": "IGRJ1NnrmWph",
        "outputId": "2947c8b9-6f5a-44d5-84be-6f79c43e7a24"
      },
      "execution_count": 24,
      "outputs": [
        {
          "output_type": "display_data",
          "data": {
            "text/plain": [
              "<Figure size 432x288 with 1 Axes>"
            ],
            "image/png": "[encoded data removed]"
          },
          "metadata": {
            "needs_background": "light"
          }
        },
        {
          "output_type": "stream",
          "name": "stdout",
          "text": [
            "GroundTruth:  cat   ship  ship  plane frog  frog \n"
          ]
        }
      ]
    },
    {
      "cell_type": "markdown",
      "source": [
        "We check what the neural network thinks these examples above are:"
      ],
      "metadata": {
        "id": "PrTZ_Dmyrlfs"
      }
    },
    {
      "cell_type": "code",
      "source": [
        "net = CNN()\n",
        "net.load_state_dict(torch.load(PATH))\n",
        "outputs = net(images)\n",
        "_, predicted = torch.max(outputs, 1)\n",
        "\n",
        "print('Predicted: ', ' '.join(f'{classes[predicted[j]]:5s}'for j in range(6)))"
      ],
      "metadata": {
        "colab": {
          "base_uri": "https://localhost:8080/"
        },
        "id": "QutZK5_jrw4G",
        "outputId": "5d26f7e5-2bf5-4ad6-ff79-ac5dc8e03360"
      },
      "execution_count": 25,
      "outputs": [
        {
          "output_type": "stream",
          "name": "stdout",
          "text": [
            "Predicted:  cat   ship  ship  plane frog  frog \n"
          ]
        }
      ]
    },
    {
      "cell_type": "markdown",
      "source": [
        "Everything is matching perfectly as expected as shown in the prediction below."
      ],
      "metadata": {
        "id": "VOdJm0KWthdR"
      }
    },
    {
      "cell_type": "code",
      "source": [
        "_, predicted = torch.max(outputs, 1)\n",
        "\n",
        "print('Predicted: ', ' '.join(f'{classes[predicted[j]]:5s}'for j in range(4)))"
      ],
      "metadata": {
        "colab": {
          "base_uri": "https://localhost:8080/"
        },
        "id": "YiWf-GAlton3",
        "outputId": "c8cab0de-f10f-40a8-8dd2-725186195d8f"
      },
      "execution_count": 11,
      "outputs": [
        {
          "output_type": "stream",
          "name": "stdout",
          "text": [
            "Predicted:  cat   ship  ship  plane\n"
          ]
        }
      ]
    },
    {
      "cell_type": "code",
      "source": [
        "correct = 0\n",
        "total = 0\n",
        "# since we're not training, we don't need to calculate the gradients for our outputs\n",
        "with torch.no_grad():\n",
        "    for data in testloader:\n",
        "        images, labels = data\n",
        "        # calculate outputs by running images through the network\n",
        "        outputs = net(images)\n",
        "        # the class with the highest energy is what we choose as prediction\n",
        "        _, predicted = torch.max(outputs.data, 1)\n",
        "        total += labels.size(0)\n",
        "        correct += (predicted == labels).sum().item()\n",
        "\n",
        "print(f'Accuracy of the network on the 10000 test images: {100 * correct // total} %')"
      ],
      "metadata": {
        "colab": {
          "base_uri": "https://localhost:8080/"
        },
        "id": "ThnsVoh_wIG9",
        "outputId": "20f0b00a-75f5-4171-ccbb-a5e1b6485966"
      },
      "execution_count": 12,
      "outputs": [
        {
          "output_type": "stream",
          "name": "stdout",
          "text": [
            "Accuracy of the network on the 10000 test images: 55 %\n"
          ]
        }
      ]
    },
    {
      "cell_type": "markdown",
      "source": [
        "The overall Accuracy peformance for each the 10 classes is 55% which is better. "
      ],
      "metadata": {
        "id": "6-o6ZVwlRDqf"
      }
    },
    {
      "cell_type": "code",
      "source": [
        "class_correct = list(0. for i in range(10))\n",
        "class_total = list(0. for i in range(10))\n",
        "with torch.no_grad():\n",
        "    for data in testloader:\n",
        "        images, labels = data\n",
        "        outputs = net(images)\n",
        "        _, predicted = torch.max(outputs, 1)\n",
        "        c = (predicted == labels).squeeze()\n",
        "        for i in range(4):\n",
        "            label = labels[i]\n",
        "            class_correct[label] += c[i].item()\n",
        "            class_total[label] += 1\n",
        "\n",
        "\n",
        "for i in range(10):\n",
        "    print('Accuracy of %5s : %2d %%' % (classes[i], 100 * class_correct[i] / class_total[i]))"
      ],
      "metadata": {
        "colab": {
          "base_uri": "https://localhost:8080/"
        },
        "id": "_rgEbccRRLjL",
        "outputId": "171a29db-8a84-4f77-f0df-abeccf6c5122"
      },
      "execution_count": 13,
      "outputs": [
        {
          "output_type": "stream",
          "name": "stdout",
          "text": [
            "Accuracy of plane : 75 %\n",
            "Accuracy of   car : 82 %\n",
            "Accuracy of  bird : 41 %\n",
            "Accuracy of   cat : 34 %\n",
            "Accuracy of  deer : 36 %\n",
            "Accuracy of   dog : 49 %\n",
            "Accuracy of  frog : 75 %\n",
            "Accuracy of horse : 48 %\n",
            "Accuracy of  ship : 74 %\n",
            "Accuracy of truck : 42 %\n"
          ]
        }
      ]
    },
    {
      "cell_type": "markdown",
      "source": [
        "Carrying out predictions from the model using test data set. We create predict function to use the model in prediction and check_sample function to display the image being predicted, the predicted and desired class."
      ],
      "metadata": {
        "id": "aLEd8tnqSmHQ"
      }
    },
    {
      "cell_type": "code",
      "source": [
        "def predict(input):\n",
        "    out = net(input.reshape(1, 3, 32, 32))\n",
        "    _, pred = torch.max(out, dim=1)\n",
        "    return classes[pred]\n",
        "\n",
        "def check_sample(img_label_pair):\n",
        "    imshow(img_label_pair[0])\n",
        "    print(\"Predicted: \" + predict(img_label_pair[0]))\n",
        "    print(\"Desired output: \" + classes[img_label_pair[1]])"
      ],
      "metadata": {
        "id": "mDmU6kRaSqxY"
      },
      "execution_count": 14,
      "outputs": []
    },
    {
      "cell_type": "markdown",
      "source": [
        "Use the code below to test the model classification performance of 10000 cifar10 test dataset using testset[0..9999]"
      ],
      "metadata": {
        "id": "dwNnmzp7UNag"
      }
    },
    {
      "cell_type": "code",
      "source": [
        "check_sample(testset[34])\n",
        "check_sample(testset[44])"
      ],
      "metadata": {
        "colab": {
          "base_uri": "https://localhost:8080/",
          "height": 584
        },
        "id": "gSBvslKKTPa3",
        "outputId": "da78ffa1-5ec9-48ad-af42-5d77875dd026"
      },
      "execution_count": 27,
      "outputs": [
        {
          "output_type": "display_data",
          "data": {
            "text/plain": [
              "<Figure size 432x288 with 1 Axes>"
            ],
            "image/png": "[encoded data removed]"
          },
          "metadata": {
            "needs_background": "light"
          }
        },
        {
          "output_type": "stream",
          "name": "stdout",
          "text": [
            "Predicted: truck\n",
            "Desired output: truck\n"
          ]
        },
        {
          "output_type": "display_data",
          "data": {
            "text/plain": [
              "<Figure size 432x288 with 1 Axes>"
            ],
            "image/png": "[encoded data removed]"
          },
          "metadata": {
            "needs_background": "light"
          }
        },
        {
          "output_type": "stream",
          "name": "stdout",
          "text": [
            "Predicted: plane\n",
            "Desired output: plane\n"
          ]
        }
      ]
    }
  ]
}